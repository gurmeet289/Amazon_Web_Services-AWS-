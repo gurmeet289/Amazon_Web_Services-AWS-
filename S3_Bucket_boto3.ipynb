{
 "cells": [
  {
   "cell_type": "markdown",
   "metadata": {},
   "source": [
    "#                                            AWS S3 BUCKET "
   ]
  },
  {
   "cell_type": "markdown",
   "metadata": {},
   "source": [
    "# How to read, upload and download files from AWS S3 bucket"
   ]
  },
  {
   "cell_type": "code",
   "execution_count": 1,
   "metadata": {},
   "outputs": [
    {
     "name": "stdout",
     "output_type": "stream",
     "text": [
      "Collecting boto3\n",
      "  Downloading boto3-1.16.49-py2.py3-none-any.whl (130 kB)\n",
      "Collecting botocore<1.20.0,>=1.19.49\n",
      "  Downloading botocore-1.19.49-py2.py3-none-any.whl (7.2 MB)\n",
      "Collecting jmespath<1.0.0,>=0.7.1\n",
      "  Downloading jmespath-0.10.0-py2.py3-none-any.whl (24 kB)\n",
      "Collecting s3transfer<0.4.0,>=0.3.0\n",
      "  Downloading s3transfer-0.3.3-py2.py3-none-any.whl (69 kB)\n",
      "Requirement already satisfied: urllib3<1.27,>=1.25.4; python_version != \"3.4\" in c:\\users\\win10\\anaconda3\\envs\\myenv\\lib\\site-packages (from botocore<1.20.0,>=1.19.49->boto3) (1.25.10)\n",
      "Requirement already satisfied: python-dateutil<3.0.0,>=2.1 in c:\\users\\win10\\anaconda3\\envs\\myenv\\lib\\site-packages (from botocore<1.20.0,>=1.19.49->boto3) (2.8.1)\n",
      "Requirement already satisfied: six>=1.5 in c:\\users\\win10\\anaconda3\\envs\\myenv\\lib\\site-packages (from python-dateutil<3.0.0,>=2.1->botocore<1.20.0,>=1.19.49->boto3) (1.15.0)\n",
      "Installing collected packages: jmespath, botocore, s3transfer, boto3\n",
      "Successfully installed boto3-1.16.49 botocore-1.19.49 jmespath-0.10.0 s3transfer-0.3.3\n"
     ]
    }
   ],
   "source": [
    "# Library used for reading the AWS(S3_bucket)\n",
    "!pip install boto3"
   ]
  },
  {
   "cell_type": "code",
   "execution_count": 12,
   "metadata": {},
   "outputs": [],
   "source": [
    "# Importing the libraries\n",
    "import boto3\n",
    "import pandas as pd\n",
    "\n",
    "s3 = boto3.client('s3')\n"
   ]
  },
  {
   "cell_type": "code",
   "execution_count": 13,
   "metadata": {},
   "outputs": [],
   "source": [
    "# Declaring resource information of S3_bucket \n",
    "s3 = boto3.resource(\n",
    "    service_name='s3', #Service name\n",
    "    region_name='us-east-2', #Region you used while making the bucket \n",
    "    aws_access_key_id='',    #Providing AWS access key id (note- while generating, please download and keep it save for futher use)\n",
    "    aws_secret_access_key=''  #Providing AWS secret access key (note- while generating, please download and keep it save for futher use)\n",
    ")"
   ]
  },
  {
   "cell_type": "code",
   "execution_count": 15,
   "metadata": {},
   "outputs": [
    {
     "name": "stdout",
     "output_type": "stream",
     "text": [
      "krishtest1\n"
     ]
    }
   ],
   "source": [
    "# Print out bucket names just in case if you want to know how many bucket exists in S3\n",
    "for bucket in s3.buckets.all():\n",
    "    print(bucket.name)"
   ]
  },
  {
   "cell_type": "code",
   "execution_count": 16,
   "metadata": {},
   "outputs": [
    {
     "name": "stdout",
     "output_type": "stream",
     "text": [
      "Requirement already satisfied: s3fs in c:\\users\\win10\\anaconda3\\envs\\myenv\\lib\\site-packages (0.5.2)\n",
      "Requirement already satisfied: fsspec>=0.8.0 in c:\\users\\win10\\anaconda3\\envs\\myenv\\lib\\site-packages (from s3fs) (0.8.5)\n",
      "Requirement already satisfied: aiobotocore>=1.0.1 in c:\\users\\win10\\anaconda3\\envs\\myenv\\lib\\site-packages (from s3fs) (1.1.2)\n",
      "Requirement already satisfied: aiohttp>=3.3.1 in c:\\users\\win10\\anaconda3\\envs\\myenv\\lib\\site-packages (from aiobotocore>=1.0.1->s3fs) (3.7.3)\n",
      "Requirement already satisfied: botocore<1.17.45,>=1.17.44 in c:\\users\\win10\\anaconda3\\envs\\myenv\\lib\\site-packages (from aiobotocore>=1.0.1->s3fs) (1.17.44)\n",
      "Requirement already satisfied: wrapt>=1.10.10 in c:\\users\\win10\\anaconda3\\envs\\myenv\\lib\\site-packages (from aiobotocore>=1.0.1->s3fs) (1.12.1)\n",
      "Requirement already satisfied: aioitertools>=0.5.1 in c:\\users\\win10\\anaconda3\\envs\\myenv\\lib\\site-packages (from aiobotocore>=1.0.1->s3fs) (0.7.1)\n",
      "Requirement already satisfied: multidict<7.0,>=4.5 in c:\\users\\win10\\anaconda3\\envs\\myenv\\lib\\site-packages (from aiohttp>=3.3.1->aiobotocore>=1.0.1->s3fs) (5.1.0)\n",
      "Requirement already satisfied: chardet<4.0,>=2.0 in c:\\users\\win10\\anaconda3\\envs\\myenv\\lib\\site-packages (from aiohttp>=3.3.1->aiobotocore>=1.0.1->s3fs) (3.0.4)\n",
      "Requirement already satisfied: attrs>=17.3.0 in c:\\users\\win10\\anaconda3\\envs\\myenv\\lib\\site-packages (from aiohttp>=3.3.1->aiobotocore>=1.0.1->s3fs) (19.3.0)\n",
      "Requirement already satisfied: typing-extensions>=3.6.5 in c:\\users\\win10\\anaconda3\\envs\\myenv\\lib\\site-packages (from aiohttp>=3.3.1->aiobotocore>=1.0.1->s3fs) (3.7.4.3)\n",
      "Requirement already satisfied: async-timeout<4.0,>=3.0 in c:\\users\\win10\\anaconda3\\envs\\myenv\\lib\\site-packages (from aiohttp>=3.3.1->aiobotocore>=1.0.1->s3fs) (3.0.1)\n",
      "Requirement already satisfied: yarl<2.0,>=1.0 in c:\\users\\win10\\anaconda3\\envs\\myenv\\lib\\site-packages (from aiohttp>=3.3.1->aiobotocore>=1.0.1->s3fs) (1.6.3)\n",
      "Requirement already satisfied: docutils<0.16,>=0.10 in c:\\users\\win10\\anaconda3\\envs\\myenv\\lib\\site-packages (from botocore<1.17.45,>=1.17.44->aiobotocore>=1.0.1->s3fs) (0.15.2)\n",
      "Requirement already satisfied: jmespath<1.0.0,>=0.7.1 in c:\\users\\win10\\anaconda3\\envs\\myenv\\lib\\site-packages (from botocore<1.17.45,>=1.17.44->aiobotocore>=1.0.1->s3fs) (0.10.0)\n",
      "Requirement already satisfied: python-dateutil<3.0.0,>=2.1 in c:\\users\\win10\\anaconda3\\envs\\myenv\\lib\\site-packages (from botocore<1.17.45,>=1.17.44->aiobotocore>=1.0.1->s3fs) (2.8.1)\n",
      "Requirement already satisfied: urllib3<1.26,>=1.20; python_version != \"3.4\" in c:\\users\\win10\\anaconda3\\envs\\myenv\\lib\\site-packages (from botocore<1.17.45,>=1.17.44->aiobotocore>=1.0.1->s3fs) (1.25.10)\n",
      "Requirement already satisfied: idna>=2.0 in c:\\users\\win10\\anaconda3\\envs\\myenv\\lib\\site-packages (from yarl<2.0,>=1.0->aiohttp>=3.3.1->aiobotocore>=1.0.1->s3fs) (2.10)\n",
      "Requirement already satisfied: six>=1.5 in c:\\users\\win10\\anaconda3\\envs\\myenv\\lib\\site-packages (from python-dateutil<3.0.0,>=2.1->botocore<1.17.45,>=1.17.44->aiobotocore>=1.0.1->s3fs) (1.15.0)\n"
     ]
    }
   ],
   "source": [
    "!pip install s3fs"
   ]
  },
  {
   "cell_type": "code",
   "execution_count": 17,
   "metadata": {},
   "outputs": [],
   "source": [
    "# This is the important step, if you are declaring in the top of your file than you need not have to write \n",
    "# \"AWS_ACCESS_KEY_ID\" and \"AWS_SECRET_ACCESS_KEY\" all the time \n",
    "import os\n",
    "os.environ[\"AWS_DEFAULT_REGION\"] = 'us-east-2'   # Your region name example us-east-2\n",
    "os.environ[\"AWS_ACCESS_KEY_ID\"] = ''\n",
    "os.environ[\"AWS_SECRET_ACCESS_KEY\"] = ''"
   ]
  },
  {
   "cell_type": "code",
   "execution_count": null,
   "metadata": {},
   "outputs": [],
   "source": []
  },
  {
   "cell_type": "code",
   "execution_count": 20,
   "metadata": {},
   "outputs": [],
   "source": [
    "import pandas as pd\n",
    "\n",
    "# Make dataframes\n",
    "file1 = pd.DataFrame({'x': [1, 2, 3], 'y': ['a', 'b', 'c']})\n",
    "file2 = pd.DataFrame({'x': [10, 20, 30], 'y': ['aa', 'bb', 'cc']})\n",
    "\n",
    "# Save to csv\n",
    "file1.to_csv('file1.csv')\n",
    "file2.to_csv('file2.csv')"
   ]
  },
  {
   "cell_type": "code",
   "execution_count": 21,
   "metadata": {},
   "outputs": [],
   "source": [
    "\n",
    "# Upload files to S3 bucket\n",
    "s3.Bucket('S3_bucket_name').upload_file(Filename='file1.csv', Key='file1.csv')\n",
    "s3.Bucket('S3_bucket_name').upload_file(Filename='file2.csv', Key='file2.csv')"
   ]
  },
  {
   "cell_type": "code",
   "execution_count": null,
   "metadata": {},
   "outputs": [],
   "source": [
    "for obj in s3.Bucket('S3_bucket_name').objects.all():\n",
    "    print(obj)"
   ]
  },
  {
   "cell_type": "code",
   "execution_count": 29,
   "metadata": {},
   "outputs": [],
   "source": [
    "# Load csv file directly into python\n",
    "obj = s3.Bucket('S3_bucket_name').Object('file1.csv').get()\n",
    "foo = pd.read_csv(obj['Body'], index_col=0)"
   ]
  },
  {
   "cell_type": "code",
   "execution_count": 32,
   "metadata": {},
   "outputs": [],
   "source": [
    "\n",
    "obj = s3.Bucket('S3_bucket_name').Object('file2.csv').get()\n",
    "foo = pd.read_csv(obj['Body'], index_col=0)"
   ]
  },
  {
   "cell_type": "code",
   "execution_count": 33,
   "metadata": {},
   "outputs": [
    {
     "data": {
      "text/html": [
       "<div>\n",
       "<style scoped>\n",
       "    .dataframe tbody tr th:only-of-type {\n",
       "        vertical-align: middle;\n",
       "    }\n",
       "\n",
       "    .dataframe tbody tr th {\n",
       "        vertical-align: top;\n",
       "    }\n",
       "\n",
       "    .dataframe thead th {\n",
       "        text-align: right;\n",
       "    }\n",
       "</style>\n",
       "<table border=\"1\" class=\"dataframe\">\n",
       "  <thead>\n",
       "    <tr style=\"text-align: right;\">\n",
       "      <th></th>\n",
       "      <th>x</th>\n",
       "      <th>y</th>\n",
       "    </tr>\n",
       "  </thead>\n",
       "  <tbody>\n",
       "    <tr>\n",
       "      <th>0</th>\n",
       "      <td>10</td>\n",
       "      <td>aa</td>\n",
       "    </tr>\n",
       "    <tr>\n",
       "      <th>1</th>\n",
       "      <td>20</td>\n",
       "      <td>bb</td>\n",
       "    </tr>\n",
       "    <tr>\n",
       "      <th>2</th>\n",
       "      <td>30</td>\n",
       "      <td>cc</td>\n",
       "    </tr>\n",
       "  </tbody>\n",
       "</table>\n",
       "</div>"
      ],
      "text/plain": [
       "    x   y\n",
       "0  10  aa\n",
       "1  20  bb\n",
       "2  30  cc"
      ]
     },
     "execution_count": 33,
     "metadata": {},
     "output_type": "execute_result"
    }
   ],
   "source": [
    "foo.head()"
   ]
  },
  {
   "cell_type": "code",
   "execution_count": 34,
   "metadata": {},
   "outputs": [
    {
     "data": {
      "text/html": [
       "<div>\n",
       "<style scoped>\n",
       "    .dataframe tbody tr th:only-of-type {\n",
       "        vertical-align: middle;\n",
       "    }\n",
       "\n",
       "    .dataframe tbody tr th {\n",
       "        vertical-align: top;\n",
       "    }\n",
       "\n",
       "    .dataframe thead th {\n",
       "        text-align: right;\n",
       "    }\n",
       "</style>\n",
       "<table border=\"1\" class=\"dataframe\">\n",
       "  <thead>\n",
       "    <tr style=\"text-align: right;\">\n",
       "      <th></th>\n",
       "      <th>x</th>\n",
       "      <th>y</th>\n",
       "    </tr>\n",
       "  </thead>\n",
       "  <tbody>\n",
       "    <tr>\n",
       "      <th>0</th>\n",
       "      <td>1</td>\n",
       "      <td>a</td>\n",
       "    </tr>\n",
       "    <tr>\n",
       "      <th>1</th>\n",
       "      <td>2</td>\n",
       "      <td>b</td>\n",
       "    </tr>\n",
       "    <tr>\n",
       "      <th>2</th>\n",
       "      <td>3</td>\n",
       "      <td>c</td>\n",
       "    </tr>\n",
       "  </tbody>\n",
       "</table>\n",
       "</div>"
      ],
      "text/plain": [
       "   x  y\n",
       "0  1  a\n",
       "1  2  b\n",
       "2  3  c"
      ]
     },
     "execution_count": 34,
     "metadata": {},
     "output_type": "execute_result"
    }
   ],
   "source": [
    "# Download file and read from disc\n",
    "s3.Bucket('S3_bucket_name').download_file(Key='file1.csv', Filename='Any_name_you_want_to _give.csv')\n",
    "pd.read_csv('Any_name_you_want_to _give.csv', index_col=0)"
   ]
  },
  {
   "cell_type": "code",
   "execution_count": null,
   "metadata": {},
   "outputs": [],
   "source": []
  }
 ],
 "metadata": {
  "kernelspec": {
   "display_name": "Python 3",
   "language": "python",
   "name": "python3"
  },
  "language_info": {
   "codemirror_mode": {
    "name": "ipython",
    "version": 3
   },
   "file_extension": ".py",
   "mimetype": "text/x-python",
   "name": "python",
   "nbconvert_exporter": "python",
   "pygments_lexer": "ipython3",
   "version": "3.7.4"
  }
 },
 "nbformat": 4,
 "nbformat_minor": 2
}
